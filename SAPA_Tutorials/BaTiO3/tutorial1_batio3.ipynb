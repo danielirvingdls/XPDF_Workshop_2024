{
 "cells": [
  {
   "cell_type": "markdown",
   "id": "baa870e4",
   "metadata": {},
   "source": [
    "# Symmetry Adapted PDF Analysis - Running SAPA\n",
    "\n",
    "\n",
    "\n",
    "\n",
    "\n",
    "\n",
    "\n",
    "\n",
    "\n",
    "First, import the sapa library"
   ]
  },
  {
   "cell_type": "code",
   "execution_count": 1,
   "id": "6f0b8b9f",
   "metadata": {},
   "outputs": [],
   "source": [
    "import sys\n",
    "sys.path.append('..')"
   ]
  },
  {
   "cell_type": "code",
   "execution_count": null,
   "id": "1140f43e",
   "metadata": {},
   "outputs": [],
   "source": [
    "import sapa as s"
   ]
  },
  {
   "cell_type": "markdown",
   "id": "1de211ed",
   "metadata": {},
   "source": [
    "Next, we need to create a SAPA object. This imports all the data from a CIF."
   ]
  },
  {
   "cell_type": "code",
   "execution_count": 3,
   "id": "8c7473ff",
   "metadata": {},
   "outputs": [],
   "source": [
    "struc = s.sapa('BaTiO3_iso.cif')"
   ]
  },
  {
   "cell_type": "markdown",
   "id": "24876e87",
   "metadata": {},
   "source": [
    "We can see the list of \"methods\" the SAPA object has:"
   ]
  },
  {
   "cell_type": "code",
   "execution_count": 4,
   "id": "44332c27",
   "metadata": {},
   "outputs": [
    {
     "data": {
      "text/plain": [
       "['__class__',\n",
       " '__delattr__',\n",
       " '__dict__',\n",
       " '__dir__',\n",
       " '__doc__',\n",
       " '__eq__',\n",
       " '__format__',\n",
       " '__ge__',\n",
       " '__getattribute__',\n",
       " '__getstate__',\n",
       " '__gt__',\n",
       " '__hash__',\n",
       " '__init__',\n",
       " '__init_subclass__',\n",
       " '__le__',\n",
       " '__lt__',\n",
       " '__module__',\n",
       " '__ne__',\n",
       " '__new__',\n",
       " '__reduce__',\n",
       " '__reduce_ex__',\n",
       " '__repr__',\n",
       " '__setattr__',\n",
       " '__sizeof__',\n",
       " '__str__',\n",
       " '__subclasshook__',\n",
       " '__weakref__',\n",
       " 'atom_site_Wyckoff_label',\n",
       " 'atom_site_fract_symmform',\n",
       " 'atom_site_fract_x',\n",
       " 'atom_site_fract_y',\n",
       " 'atom_site_fract_z',\n",
       " 'atom_site_label',\n",
       " 'atom_site_occupancy',\n",
       " 'atom_site_symmetry_multiplicity',\n",
       " 'atom_site_type_symbol',\n",
       " 'cell_angle_alpha',\n",
       " 'cell_angle_beta',\n",
       " 'cell_angle_gamma',\n",
       " 'cell_length_a',\n",
       " 'cell_length_b',\n",
       " 'cell_length_c',\n",
       " 'cell_volume',\n",
       " 'cleanup',\n",
       " 'cleanup_single',\n",
       " 'constraint_array',\n",
       " 'constraints_out',\n",
       " 'create_hdf5',\n",
       " 'create_hdf5_base',\n",
       " 'create_hdf5_normalise',\n",
       " 'create_hdf5_occ',\n",
       " 'create_hdf5_single',\n",
       " 'execute',\n",
       " 'execute_occ',\n",
       " 'execute_old',\n",
       " 'execute_single',\n",
       " 'file_check',\n",
       " 'get_indices',\n",
       " 'idformat',\n",
       " 'import_amps',\n",
       " 'instrument_pars',\n",
       " 'irrep_list',\n",
       " 'iso_coordinate_formula',\n",
       " 'iso_coordinate_label',\n",
       " 'iso_deltacoordinate_ID',\n",
       " 'iso_deltacoordinate_label',\n",
       " 'iso_deltacoordinate_value',\n",
       " 'iso_displacivemode_ID',\n",
       " 'iso_displacivemode_label',\n",
       " 'iso_displacivemode_number',\n",
       " 'iso_displacivemode_value',\n",
       " 'iso_displacivemodematrix_col',\n",
       " 'iso_displacivemodematrix_row',\n",
       " 'iso_displacivemodematrix_value',\n",
       " 'iso_displacivemodenorm_ID',\n",
       " 'iso_displacivemodenorm_value',\n",
       " 'iso_magneticmode_number',\n",
       " 'iso_occupancymode_number',\n",
       " 'iso_rotationalmode_number',\n",
       " 'iso_strain_ID',\n",
       " 'iso_strain_label',\n",
       " 'iso_strain_value',\n",
       " 'iso_strainmode_ID',\n",
       " 'iso_strainmode_label',\n",
       " 'iso_strainmode_number',\n",
       " 'iso_strainmode_value',\n",
       " 'iso_strainmodematrix_col',\n",
       " 'iso_strainmodematrix_row',\n",
       " 'iso_strainmodematrix_value',\n",
       " 'iso_strainmodenorm_ID',\n",
       " 'iso_strainmodenorm_value',\n",
       " 'make_matrices',\n",
       " 'make_x_y_z_constrains',\n",
       " 'modes',\n",
       " 'modes_occ',\n",
       " 'modes_single',\n",
       " 'output',\n",
       " 'output_single',\n",
       " 'phase',\n",
       " 'restart',\n",
       " 'space_group.transform_Pp_abc',\n",
       " 'space_group_symop_id',\n",
       " 'space_group_symop_operation_xyz',\n",
       " 'symmetry_Int_Tables_number',\n",
       " 'unique_modes',\n",
       " 'wd',\n",
       " 'write_inp',\n",
       " 'write_inp_occ',\n",
       " 'write_inp_single']"
      ]
     },
     "execution_count": 4,
     "metadata": {},
     "output_type": "execute_result"
    }
   ],
   "source": [
    "dir(struc)"
   ]
  },
  {
   "cell_type": "markdown",
   "id": "6fd49694",
   "metadata": {},
   "source": [
    "A lot of these are variables imported from the CIF itself. For example:"
   ]
  },
  {
   "cell_type": "code",
   "execution_count": 5,
   "id": "34bb5603",
   "metadata": {},
   "outputs": [
    {
     "name": "stdout",
     "output_type": "stream",
     "text": [
      "8.07084\n",
      "8.07084\n",
      "8.07084\n"
     ]
    }
   ],
   "source": [
    "print(struc.cell_length_a)\n",
    "print(struc.cell_length_b)\n",
    "print(struc.cell_length_c)"
   ]
  },
  {
   "cell_type": "markdown",
   "id": "58ab2ecd",
   "metadata": {},
   "source": [
    "This gives the lattice parameters of the supercell we chose when we generated the CIF with ISODISTORT.\n",
    "\n",
    "Other methods operate on the information provided in the CIF. For example:"
   ]
  },
  {
   "cell_type": "code",
   "execution_count": 6,
   "id": "57d93b0b",
   "metadata": {},
   "outputs": [
    {
     "data": {
      "text/plain": [
       "['GM4-',\n",
       " 'R4-',\n",
       " 'X3-',\n",
       " 'X5-',\n",
       " 'M3-',\n",
       " 'M5-',\n",
       " 'R5+',\n",
       " 'X1+',\n",
       " 'X5+',\n",
       " 'M2-',\n",
       " 'GM5-',\n",
       " 'R2-',\n",
       " 'R3-',\n",
       " 'R5-',\n",
       " 'X2+',\n",
       " 'M1+',\n",
       " 'M2+',\n",
       " 'M3+',\n",
       " 'M4+',\n",
       " 'M5+']"
      ]
     },
     "execution_count": 6,
     "metadata": {},
     "output_type": "execute_result"
    }
   ],
   "source": [
    "struc.irrep_list()"
   ]
  },
  {
   "cell_type": "markdown",
   "id": "dedb999e",
   "metadata": {},
   "source": [
    "This provides a list of irreps contained within the CIF. "
   ]
  },
  {
   "cell_type": "markdown",
   "id": "d9436244",
   "metadata": {},
   "source": [
    "We are going to use the \"write_inp\" method to make an input file to perform symmetry adapted PDF analysis. The required arguments takes are (in order):\n",
    "\n",
    "sample: \n",
    "A \"sample\" string to remind you what you are running. This is often just the material you are analysing. This is repeated in the output files SAPA produces.\n",
    "\n",
    "filenameformat: \n",
    "This is a string to allow Topas to iterate over the data files. This includes any path information - SAPA assumes the data is in the working directory, so you need to specify if it isn't. Your data file names should be in a format to allow for iteration, i.e. they have a consistent naming convention such as \"BaTiO3_15K.xy\", \"BaTiO3_150K.xy\". The temperatures here can be iterated over, and to tell Topas that, replace the temperature with ##n## (filenameformat = \"BaTiO3_##n##K.xy\")\n",
    "\n",
    "isneutron:\n",
    "Set this to True if you are using neutron data, or False for X-ray data. For this example with BaTiO3, we are using neutron data.\n",
    "\n",
    "qmax:\n",
    "The maximum value of Q used to generate the PDF data. For this data, qmax = 40.\n",
    "\n",
    "dq:\n",
    "The Q-space dampening parameter. For this data, dq = 0.033\n",
    "\n",
    "startx, finishx:\n",
    "The r-range to start and end the refinement at. For SAPA, most of the information is contained within the low-r region. For this data, set startx = 1.7 and finishx = 10.0\n",
    "\n",
    "lattice:\n",
    "This is a flag to allow lattice parameters to refine as they should for a given lattice type. This can be \"C\", \"T\", \"O\", \"R\", \"H\", \"TC\" or \"M\", for cubic, tetragonal, orthorhombic, rhombohedral, hexagonal, triclinic and monoclinic, respectively. For now, use lattice = \"C\".\n",
    "\n",
    "There are further optional arguments that can be specified. The relevant ones for today are:\n",
    "\n",
    "cycles:\n",
    "The number of cycles to perform for each irrep. The default is 300, but for time purposes, lets lower this to 100.\n",
    "\n",
    "filename:\n",
    "The default is \"batch_modes.inp\", but this can be changed. Obviously, it still requires the .inp file extension, whatever the name is. "
   ]
  },
  {
   "cell_type": "code",
   "execution_count": 7,
   "id": "3d21f354",
   "metadata": {},
   "outputs": [
    {
     "name": "stdout",
     "output_type": "stream",
     "text": [
      "Creating input file...\n",
      "120\n",
      "120\n",
      "...batch_modes.inp written\n"
     ]
    }
   ],
   "source": [
    "struc.write_inp(sample=\"BaTiO3\", filenameformat=\"BaTiO3_##n##K.xy\", isneutron=True, qmax=40.0, dq=0.033, startx=1.7, finishx=10.0, lattice=\"C\", cycles=100)"
   ]
  },
  {
   "cell_type": "markdown",
   "id": "8fcbc01e",
   "metadata": {},
   "source": [
    "This has printed the number of modes in the input file (120 in this case), and has indicated an input file has been written. This can be viewed using jEdit, and we can go through the components of that input file later, time providing."
   ]
  },
  {
   "cell_type": "markdown",
   "id": "61569770",
   "metadata": {},
   "source": [
    "Now, we set the temperatures of our data files. (NB: these don't have to be temperatures, it is simply something to iterate over). This can be specified as a list (as below) if you don't have a regular interval between data points. Often at I15-1, we collect data at regular intervals, so we could use temps = range(start, finish + interval, interval)"
   ]
  },
  {
   "cell_type": "code",
   "execution_count": 8,
   "id": "3ed3f1c2",
   "metadata": {},
   "outputs": [],
   "source": [
    "temps = [15, 150, 210, 250, 293, 350, 410, 500]"
   ]
  },
  {
   "cell_type": "markdown",
   "id": "35808f71",
   "metadata": {},
   "source": [
    "And now, we can set the code to be run. For each temperature and irrep, this tells Topas to execute the input file with the correct modes activated. Note that this will take a long time to execute. Locking your computer, or letting it go to sleep will interrupt this process, so set the power settings to not go to sleep."
   ]
  },
  {
   "cell_type": "code",
   "execution_count": 9,
   "id": "1d96ca80",
   "metadata": {},
   "outputs": [
    {
     "name": "stdout",
     "output_type": "stream",
     "text": [
      "Finding Topas executables...\n",
      "Creating Monitoring File...\n",
      "Executing...\n",
      "Executing irrep GM4- for temp 15\n",
      "Completed irrep GM4- for temp 15. Process took 11.921932935714722s (0.19869888226191204 minutes)\n",
      "Estimated 0.5530452222956551 hours to completion.\n",
      "Executing irrep R4- for temp 15\n",
      "Completed irrep R4- for temp 15. Process took 14.222392082214355s (0.23703986803690594 minutes)\n",
      "Estimated 0.6027719379133648 hours to completion.\n",
      "Executing irrep X3- for temp 15\n"
     ]
    },
    {
     "name": "stderr",
     "output_type": "stream",
     "text": [
      "C:\\workingdirs\\sapa_2024\\sapa-main\\Notebook_Tutorials\\BaTiO3\\..\\sapa_wrk.py:17: SyntaxWarning: invalid escape sequence '\\w'\n",
      "  \"\"\"A class used to generate and execute symmetry-adapted PDF analysis (SAPA) input files for TOPAS\n",
      "C:\\workingdirs\\sapa_2024\\sapa-main\\Notebook_Tutorials\\BaTiO3\\..\\sapa_wrk.py:217: SyntaxWarning: invalid escape sequence '\\]'\n",
      "  m = re.search(\"\\](.+?)\\(\", i)\n",
      "C:\\workingdirs\\sapa_2024\\sapa-main\\Notebook_Tutorials\\BaTiO3\\..\\sapa_wrk.py:223: SyntaxWarning: invalid escape sequence '\\]'\n",
      "  m = re.search(\"\\](.+?)\\(\", i)\n",
      "C:\\workingdirs\\sapa_2024\\sapa-main\\Notebook_Tutorials\\BaTiO3\\..\\sapa_wrk.py:325: SyntaxWarning: invalid escape sequence '\\]'\n",
      "  m = re.search(\"\\](.+?)\\(\", iso_label[i])\n",
      "C:\\workingdirs\\sapa_2024\\sapa-main\\Notebook_Tutorials\\BaTiO3\\..\\sapa_wrk.py:337: SyntaxWarning: invalid escape sequence '\\]'\n",
      "  m = re.search(\"\\](.+?)\\(\", iso_label[i])\n",
      "C:\\workingdirs\\sapa_2024\\sapa-main\\Notebook_Tutorials\\BaTiO3\\..\\sapa_wrk.py:1062: SyntaxWarning: invalid escape sequence '\\]'\n",
      "  m = re.search(\"\\](.+?)\\(\",iso_label[i])\n",
      "C:\\workingdirs\\sapa_2024\\sapa-main\\Notebook_Tutorials\\BaTiO3\\..\\sapa_wrk.py:1081: SyntaxWarning: invalid escape sequence '\\]'\n",
      "  m = re.search(\"\\][a-zA-Z0-9'_]+\\([a-z]\", iso_label[indices[0]])\n",
      "C:\\workingdirs\\sapa_2024\\sapa-main\\Notebook_Tutorials\\BaTiO3\\..\\sapa_wrk.py:1135: SyntaxWarning: invalid escape sequence '\\]'\n",
      "  m = re.search(\"\\](.+?)\\(\", iso_label[i])\n",
      "C:\\workingdirs\\sapa_2024\\sapa-main\\Notebook_Tutorials\\BaTiO3\\..\\sapa_wrk.py:1475: SyntaxWarning: invalid escape sequence '\\]'\n",
      "  m = re.search(\"\\](.+?)\\(\", iso_label[i])\n",
      "C:\\workingdirs\\sapa_2024\\sapa-main\\Notebook_Tutorials\\BaTiO3\\..\\sapa_wrk.py:1486: SyntaxWarning: invalid escape sequence '\\]'\n",
      "  m = re.search(\"\\](.+?)\\(\", iso_label[i])\n"
     ]
    },
    {
     "ename": "KeyboardInterrupt",
     "evalue": "",
     "output_type": "error",
     "traceback": [
      "\u001b[1;31m---------------------------------------------------------------------------\u001b[0m",
      "\u001b[1;31mKeyboardInterrupt\u001b[0m                         Traceback (most recent call last)",
      "Cell \u001b[1;32mIn[9], line 1\u001b[0m\n\u001b[1;32m----> 1\u001b[0m \u001b[43mstruc\u001b[49m\u001b[38;5;241;43m.\u001b[39;49m\u001b[43mexecute\u001b[49m\u001b[43m(\u001b[49m\u001b[43mtemps\u001b[49m\u001b[43m)\u001b[49m\n",
      "File \u001b[1;32mC:\\workingdirs\\sapa_2024\\sapa-main\\Notebook_Tutorials\\BaTiO3\\..\\sapa_wrk.py:537\u001b[0m, in \u001b[0;36msapa.execute\u001b[1;34m(self, temps, var_dict, verbose, skip_irreps)\u001b[0m\n\u001b[0;32m    535\u001b[0m ex_string \u001b[38;5;241m+\u001b[39m\u001b[38;5;241m=\u001b[39m \u001b[38;5;124mf\u001b[39m\u001b[38;5;124m'\u001b[39m\u001b[38;5;124m#define \u001b[39m\u001b[38;5;132;01m{\u001b[39;00mirrep\u001b[38;5;132;01m}\u001b[39;00m\u001b[38;5;124m \u001b[39m\u001b[38;5;130;01m\\\"\u001b[39;00m\u001b[38;5;124m'\u001b[39m\n\u001b[0;32m    536\u001b[0m \u001b[38;5;28;01mif\u001b[39;00m verbose \u001b[38;5;241m==\u001b[39m \u001b[38;5;28;01mFalse\u001b[39;00m:\n\u001b[1;32m--> 537\u001b[0m     \u001b[43mos\u001b[49m\u001b[38;5;241;43m.\u001b[39;49m\u001b[43msystem\u001b[49m\u001b[43m(\u001b[49m\u001b[43mex_string\u001b[49m\u001b[43m \u001b[49m\u001b[38;5;241;43m+\u001b[39;49m\u001b[43m \u001b[49m\u001b[38;5;124;43m\"\u001b[39;49m\u001b[38;5;124;43m > NUL \u001b[39;49m\u001b[38;5;124;43m\"\u001b[39;49m\u001b[43m)\u001b[49m\n\u001b[0;32m    538\u001b[0m \u001b[38;5;28;01melse\u001b[39;00m:\n\u001b[0;32m    539\u001b[0m     os\u001b[38;5;241m.\u001b[39msystem(ex_string)\n",
      "\u001b[1;31mKeyboardInterrupt\u001b[0m: "
     ]
    },
    {
     "name": "stdout",
     "output_type": "stream",
     "text": [
      "Completed irrep R5- for temp 410. Process took 87.25986766815186s (1.4543311278025308 minutes)\n",
      "Estimated 0.9156648288038042 hours to completion.\n",
      "Executing irrep X2+ for temp 410\n",
      "Completed irrep X2+ for temp 410. Process took 87.69503545761108s (1.461583924293518 minutes)\n",
      "Estimated 0.8813649975492599 hours to completion.\n",
      "Executing irrep M1+ for temp 410\n",
      "Completed irrep M1+ for temp 410. Process took 70.38759922981262s (1.1731266538302103 minutes)\n",
      "Estimated 0.846324899025926 hours to completion.\n",
      "Executing irrep M2+ for temp 410\n",
      "Completed irrep M2+ for temp 410. Process took 88.27447867393494s (1.4712413112322489 minutes)\n",
      "Estimated 0.8123700481657844 hours to completion.\n",
      "Executing irrep M3+ for temp 410\n",
      "Completed irrep M3+ for temp 410. Process took 62.20978665351868s (1.0368297775586446 minutes)\n",
      "Estimated 0.7773395286334885 hours to completion.\n",
      "Executing irrep M4+ for temp 410\n",
      "Completed irrep M4+ for temp 410. Process took 71.80842351913452s (1.1968070586522421 minutes)\n",
      "Estimated 0.7429767654522168 hours to completion.\n",
      "Executing irrep M5+ for temp 410\n",
      "Completed irrep M5+ for temp 410. Process took 122.96482443809509s (2.049413740634918 minutes)\n",
      "Estimated 0.7109527310915008 hours to completion.\n",
      "Executing irrep nomodes for temp 410\n",
      "Completed irrep nomodes for temp 410. Process took 53.894609451293945s (0.8982434908548991 minutes)\n",
      "Estimated 0.676158796662376 hours to completion.\n",
      "Executing irrep GM4- for temp 500\n",
      "Completed irrep GM4- for temp 500. Process took 200.02079677581787s (3.333679946263631 minutes)\n",
      "Estimated 0.6471179606857242 hours to completion.\n",
      "Executing irrep R4- for temp 500\n",
      "Completed irrep R4- for temp 500. Process took 105.28919529914856s (1.754819921652476 minutes)\n",
      "Estimated 0.6143656258228374 hours to completion.\n",
      "Executing irrep X3- for temp 500\n",
      "Completed irrep X3- for temp 500. Process took 92.77861785888672s (1.546310297648112 minutes)\n",
      "Estimated 0.5812430095275243 hours to completion.\n",
      "Executing irrep X5- for temp 500\n",
      "Completed irrep X5- for temp 500. Process took 164.183043718338s (2.7363840619723003 minutes)\n",
      "Estimated 0.5504507847723494 hours to completion.\n",
      "Executing irrep M3- for temp 500\n",
      "Completed irrep M3- for temp 500. Process took 82.83268332481384s (1.3805447220802307 minutes)\n",
      "Estimated 0.517084971136517 hours to completion.\n",
      "Executing irrep M5- for temp 500\n",
      "Completed irrep M5- for temp 500. Process took 236.82963919639587s (3.9471606532732646 minutes)\n",
      "Estimated 0.48804835653772544 hours to completion.\n",
      "Executing irrep R5+ for temp 500\n",
      "Completed irrep R5+ for temp 500. Process took 65.52143573760986s (1.0920239289601643 minutes)\n",
      "Estimated 0.4542085123182547 hours to completion.\n",
      "Executing irrep X1+ for temp 500\n",
      "Completed irrep X1+ for temp 500. Process took 125.83513140678406s (2.0972521901130676 minutes)\n",
      "Estimated 0.4219756251787199 hours to completion.\n",
      "Executing irrep X5+ for temp 500\n",
      "Completed irrep X5+ for temp 500. Process took 195.20608353614807s (3.253434725602468 minutes)\n",
      "Estimated 0.39119013467405594 hours to completion.\n",
      "Executing irrep M2- for temp 500\n",
      "Completed irrep M2- for temp 500. Process took 126.21600723266602s (2.1036001205444337 minutes)\n",
      "Estimated 0.3587633712133109 hours to completion.\n",
      "Executing irrep GM5- for temp 500\n",
      "Completed irrep GM5- for temp 500. Process took 188.44524788856506s (3.1407541314760845 minutes)\n",
      "Estimated 0.32739731993437154 hours to completion.\n",
      "Executing irrep R2- for temp 500\n",
      "Completed irrep R2- for temp 500. Process took 52.46752905845642s (0.8744588176409404 minutes)\n",
      "Estimated 0.2936293567126652 hours to completion.\n",
      "Executing irrep R3- for temp 500\n",
      "Completed irrep R3- for temp 500. Process took 59.714282274246216s (0.9952380379041036 minutes)\n",
      "Estimated 0.2602019634611077 hours to completion.\n",
      "Executing irrep R5- for temp 500\n",
      "Completed irrep R5- for temp 500. Process took 77.8720772266388s (1.2978679537773132 minutes)\n",
      "Estimated 0.22720306094717868 hours to completion.\n",
      "Executing irrep X2+ for temp 500\n",
      "Completed irrep X2+ for temp 500. Process took 94.88253617286682s (1.5813756028811137 minutes)\n",
      "Estimated 0.1945195059938195 hours to completion.\n",
      "Executing irrep M1+ for temp 500\n",
      "Completed irrep M1+ for temp 500. Process took 73.52421998977661s (1.2254036664962769 minutes)\n",
      "Estimated 0.16173159681824334 hours to completion.\n",
      "Executing irrep M2+ for temp 500\n",
      "Completed irrep M2+ for temp 500. Process took 82.55981040000916s (1.3759968400001525 minutes)\n",
      "Estimated 0.12915569114491224 hours to completion.\n",
      "Executing irrep M3+ for temp 500\n",
      "Completed irrep M3+ for temp 500. Process took 59.206191539764404s (0.9867698589960734 minutes)\n",
      "Estimated 0.09657871820469094 hours to completion.\n",
      "Executing irrep M4+ for temp 500\n",
      "Completed irrep M4+ for temp 500. Process took 66.1985855102539s (1.1033097585042317 minutes)\n",
      "Estimated 0.06421949394256714 hours to completion.\n",
      "Executing irrep M5+ for temp 500\n",
      "Completed irrep M5+ for temp 500. Process took 114.57312393188477s (1.9095520655314127 minutes)\n",
      "Estimated 0.03210804709576006 hours to completion.\n",
      "Executing irrep nomodes for temp 500\n",
      "Completed irrep nomodes for temp 500. Process took 52.880807638168335s (0.8813467939694722 minutes)\n",
      "Estimated 0.0 hours to completion.\n"
     ]
    }
   ],
   "source": [
    "struc.execute(temps)"
   ]
  },
  {
   "cell_type": "markdown",
   "id": "e5320ffd",
   "metadata": {},
   "source": [
    "Occasionally, things can interrupt the refinement process, or cause it to hang (e.g. locking your computer). The execute script writes a file to keep track of the temperature and irrep combinations it has and hasn't ran so far, and this can be used to restart the refinement."
   ]
  },
  {
   "cell_type": "code",
   "execution_count": null,
   "id": "4b430a82",
   "metadata": {},
   "outputs": [],
   "source": [
    "#struc.restart() "
   ]
  },
  {
   "cell_type": "markdown",
   "id": "d42820c2",
   "metadata": {},
   "source": [
    "## Part 2 - Post Execution"
   ]
  },
  {
   "cell_type": "markdown",
   "id": "68f99a46",
   "metadata": {},
   "source": [
    "Sometimes something can go wrong with an individual irrep/temp combo, but not interrupt the overall SAPA run. An indicator of this is that the ycalc and yobs files for these runs haven't been generated. Missing files causes problems with the HDF5 file creation. The following script checks that all the expected files are there, and if any are found to be missing, it re-runs them."
   ]
  },
  {
   "cell_type": "code",
   "execution_count": null,
   "id": "2ee59ca5",
   "metadata": {},
   "outputs": [],
   "source": [
    "struc.file_check(temps, cycles=100, verbose=False) #re-run a couple times to make sure"
   ]
  },
  {
   "cell_type": "markdown",
   "id": "7a79d51c",
   "metadata": {},
   "source": [
    "SAPA generates a large amount of files, which can be quite cumbersome to deal with. To make dealing with SAPA data more straightforward, we place all the data in these files into a structured file format (HDF5). The file is structured in the same way for every SAPA run, meaning analysis is more repeatable."
   ]
  },
  {
   "cell_type": "code",
   "execution_count": null,
   "id": "16b24693",
   "metadata": {},
   "outputs": [],
   "source": [
    "struc.create_hdf5(temps)"
   ]
  },
  {
   "cell_type": "markdown",
   "id": "41627fc1",
   "metadata": {},
   "source": [
    "We are still left with the large number of files however. The following script removes them and (optionally) compresses them into an archive."
   ]
  },
  {
   "cell_type": "code",
   "execution_count": null,
   "id": "ef9deefb",
   "metadata": {},
   "outputs": [],
   "source": [
    "struc.cleanup() # optionally set create_zip = False"
   ]
  },
  {
   "cell_type": "code",
   "execution_count": null,
   "id": "8b5727c0",
   "metadata": {},
   "outputs": [],
   "source": []
  }
 ],
 "metadata": {
  "kernelspec": {
   "display_name": "Python 3 (ipykernel)",
   "language": "python",
   "name": "python3"
  },
  "language_info": {
   "codemirror_mode": {
    "name": "ipython",
    "version": 3
   },
   "file_extension": ".py",
   "mimetype": "text/x-python",
   "name": "python",
   "nbconvert_exporter": "python",
   "pygments_lexer": "ipython3",
   "version": "3.12.4"
  }
 },
 "nbformat": 4,
 "nbformat_minor": 5
}
