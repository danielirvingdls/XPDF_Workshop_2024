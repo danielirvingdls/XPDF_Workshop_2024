{
 "cells": [
  {
   "cell_type": "markdown",
   "id": "2bd23066",
   "metadata": {},
   "source": [
    "# Tutorial 2 - Analysing Data\n",
    "\n",
    "In this tutorial, we will use some of the SAPA utility functions to look at the output of our SAPA analysis of BaTiO3.\n",
    "\n",
    "The utility functions are contained in a separate file, so needs importing separately from the SAPA class:"
   ]
  },
  {
   "cell_type": "code",
   "execution_count": 14,
   "id": "4c763027",
   "metadata": {},
   "outputs": [],
   "source": [
    "import sys\n",
    "sys.path.append('..')"
   ]
  },
  {
   "cell_type": "code",
   "execution_count": 15,
   "id": "2a0bf9aa",
   "metadata": {},
   "outputs": [],
   "source": [
    "import sapa_utils_hdf_workshop as su"
   ]
  },
  {
   "cell_type": "markdown",
   "id": "eeecce71",
   "metadata": {},
   "source": [
    "It takes an isodistort CIF and a hdf5 file as arguments. Let's load in our BaTiO3 results:"
   ]
  },
  {
   "cell_type": "code",
   "execution_count": 16,
   "id": "b1268e67",
   "metadata": {},
   "outputs": [],
   "source": [
    "batio3 = su.sapa_utils_hdf(\"BaTiO3_iso.cif\", \"BaTiO3.hdf5\")"
   ]
  },
  {
   "cell_type": "markdown",
   "id": "4ceba793",
   "metadata": {},
   "source": [
    "This has some of the same basic functionality of the SAPA object, in that variables in the CIF can be accessed. It also contains all the data from the HDF5 file. Let's look at the structure of the HDF5 file:"
   ]
  },
  {
   "cell_type": "code",
   "execution_count": 17,
   "id": "361f53f9",
   "metadata": {},
   "outputs": [
    {
     "data": {
      "text/plain": [
       "['GM4-',\n",
       " 'GM5-',\n",
       " 'M1+',\n",
       " 'M2+',\n",
       " 'M2-',\n",
       " 'M3+',\n",
       " 'M3-',\n",
       " 'M4+',\n",
       " 'M5+',\n",
       " 'M5-',\n",
       " 'R2-',\n",
       " 'R3-',\n",
       " 'R4-',\n",
       " 'R5+',\n",
       " 'R5-',\n",
       " 'X1+',\n",
       " 'X2+',\n",
       " 'X3-',\n",
       " 'X5+',\n",
       " 'X5-',\n",
       " 'nomodes',\n",
       " 'r_vals',\n",
       " 'temps']"
      ]
     },
     "execution_count": 17,
     "metadata": {},
     "output_type": "execute_result"
    }
   ],
   "source": [
    "list(batio3.hdf.keys())"
   ]
  },
  {
   "cell_type": "markdown",
   "id": "51125862",
   "metadata": {},
   "source": [
    "As you can see, all the irrep labels are \"keys\" within the HDF5 file. We can do the same for each irrep:"
   ]
  },
  {
   "cell_type": "code",
   "execution_count": 18,
   "id": "84c47a7c",
   "metadata": {},
   "outputs": [
    {
     "data": {
      "text/plain": [
       "['Ba_beq',\n",
       " 'O_beq',\n",
       " 'Rwp',\n",
       " 'Ti_beq',\n",
       " 'a1',\n",
       " 'a2',\n",
       " 'a25',\n",
       " 'a26',\n",
       " 'a27',\n",
       " 'a3',\n",
       " 'a49',\n",
       " 'a50',\n",
       " 'a51',\n",
       " 'a52',\n",
       " 'a53',\n",
       " 'a54',\n",
       " 'delrwp',\n",
       " 'lprm_a',\n",
       " 'lprm_al',\n",
       " 'lprm_b',\n",
       " 'lprm_be',\n",
       " 'lprm_c',\n",
       " 'lprm_ga',\n",
       " 'mode_amps',\n",
       " 'phase_scale',\n",
       " 'r2v',\n",
       " 'rv',\n",
       " 'ycalc',\n",
       " 'yobs']"
      ]
     },
     "execution_count": 18,
     "metadata": {},
     "output_type": "execute_result"
    }
   ],
   "source": [
    "list(batio3.hdf[\"GM4-\"].keys())"
   ]
  },
  {
   "cell_type": "markdown",
   "id": "a125584c",
   "metadata": {},
   "source": [
    "Here, we can see that each refined parameter from the SAPA run is included as a key. If we look at the \"Rwp\" key:"
   ]
  },
  {
   "cell_type": "code",
   "execution_count": 19,
   "id": "533546fb",
   "metadata": {},
   "outputs": [
    {
     "name": "stdout",
     "output_type": "stream",
     "text": [
      "<HDF5 dataset \"Rwp\": shape (8, 100), type \"<f4\">\n"
     ]
    }
   ],
   "source": [
    "print(batio3.hdf[\"GM4-/Rwp\"]) # this shows the structure of HDF5 files: to access e.g. the lprm_a parameter, you would use [\"GM4-/lrpm_a\"]\n"
   ]
  },
  {
   "cell_type": "markdown",
   "id": "60cec31a",
   "metadata": {},
   "source": [
    "This tells us the type of object we have accessed. The shape tells us the dimensions of the data, in this case 8 by 100. This is due to the structure of the SAPA run: we told it to analyse 8 PDFs and to perform 100 repetitions for each irrep. \n",
    "\n",
    "Let's access the first \"column\" of the dataset, corresponding to the lowest temperature:"
   ]
  },
  {
   "cell_type": "code",
   "execution_count": 20,
   "id": "a8f58518",
   "metadata": {},
   "outputs": [
    {
     "data": {
      "text/plain": [
       "array([ 6.071488,  6.072053,  6.072121,  6.072582,  6.073178,  6.074148,\n",
       "        6.074278,  6.075672,  6.076514,  6.076538,  6.077324,  6.077459,\n",
       "        6.077553,  6.077933,  6.077982,  6.079192,  6.080045,  6.080128,\n",
       "        6.080318,  6.080606,  6.080722,  6.081906,  6.082035,  6.082717,\n",
       "        6.082951,  6.083406,  6.083577,  6.084056,  6.084342,  6.084685,\n",
       "        6.08489 ,  6.085138,  6.08551 ,  6.085553,  6.085837,  6.086249,\n",
       "        6.086252,  6.08661 ,  6.087096,  6.087409,  6.088085,  6.088372,\n",
       "        6.088526,  6.088925,  6.089433,  6.090005,  6.090358,  6.090878,\n",
       "        6.091155,  6.091332,  6.091511,  6.091538,  6.092219,  6.092404,\n",
       "        6.092574,  6.092933,  6.093102,  6.09371 ,  6.093714,  6.09422 ,\n",
       "        6.095859,  6.096216,  6.096262,  6.096879,  6.099272,  6.099355,\n",
       "        6.099457,  6.099614,  6.100889,  6.101103,  6.101448,  6.101629,\n",
       "        6.102075,  6.103302,  6.103908,  6.105478,  6.105865,  6.107624,\n",
       "        6.108859,  6.109283,  6.109429,  6.11211 ,  6.11248 ,  6.113369,\n",
       "        6.115422,  6.117685,  6.117837,  6.118177,  6.118359,  6.118656,\n",
       "        6.122541,  6.124784,  6.125897,  6.134894,  6.135373,  6.135613,\n",
       "        6.137049, 22.26784 , 27.77731 , 28.07598 ], dtype=float32)"
      ]
     },
     "execution_count": 20,
     "metadata": {},
     "output_type": "execute_result"
    }
   ],
   "source": [
    "batio3.hdf[\"GM4-/Rwp\"][0,:] # the hdf5 datasets are structured like numpy arrays, and can be sliced in the same way"
   ]
  },
  {
   "cell_type": "markdown",
   "id": "b7e74871",
   "metadata": {},
   "source": [
    "As you can see, the value of Rwp is increasing along the \"row\". This is the case for all irreps, as the data is sorted when the hdf5 file is created. The data in the other datasets is sorted to match this. \n",
    "\n",
    "We can also look at how the lowest Rwp changes with temperature:\n",
    "\n"
   ]
  },
  {
   "cell_type": "code",
   "execution_count": 21,
   "id": "a57999a1",
   "metadata": {},
   "outputs": [
    {
     "data": {
      "text/plain": [
       "array([6.071488, 5.861709, 5.960968, 6.323827, 6.355776, 6.141595,\n",
       "       5.871454, 5.869224], dtype=float32)"
      ]
     },
     "execution_count": 21,
     "metadata": {},
     "output_type": "execute_result"
    }
   ],
   "source": [
    "batio3.hdf[\"GM4-/Rwp\"][:,0]"
   ]
  },
  {
   "cell_type": "markdown",
   "id": "7609e50e",
   "metadata": {},
   "source": [
    "There are some keys that don't correspond to refined parameters. These are \"delrwp\", \"norms\", \"mode_amps\", \"yobs\" and \"ycalc\".\n",
    "\n",
    "delrwp -> Rwp difference from a refinement with no modes active - the more negative this value is, the better the refinement is.\n",
    "\n",
    "norms -> the normalisation factors for each mode\n",
    "\n",
    "mode_amps -> the normalised mode amplitudes for the irrep as a whole\n",
    "\n",
    "yobs -> the observed PDF\n",
    "\n",
    "ycalc -> the calculated PDF for the lowest Rwp refinement for this irrep"
   ]
  },
  {
   "cell_type": "markdown",
   "id": "b2934172",
   "metadata": {},
   "source": [
    "Parameters can be plotted against temperature by supplying a list of keys to the plot function:"
   ]
  },
  {
   "cell_type": "code",
   "execution_count": 22,
   "id": "ecd71af2",
   "metadata": {},
   "outputs": [
    {
     "data": {
      "image/png": "[encoded data removed]",
      "text/plain": [
       "<Figure size 640x480 with 1 Axes>"
      ]
     },
     "metadata": {},
     "output_type": "display_data"
    }
   ],
   "source": [
    "batio3.plot([\"GM4-/Rwp\", \"X5+/Rwp\", \"R5-/Rwp\"]) # this looks at the \"best\" value by default, this can be changed by supplying index parameter\n"
   ]
  },
  {
   "cell_type": "markdown",
   "id": "8baf18de",
   "metadata": {},
   "source": [
    "We can also save figures for all the common variables by using the plot_all function:"
   ]
  },
  {
   "cell_type": "code",
   "execution_count": 23,
   "id": "6e39b8c3",
   "metadata": {},
   "outputs": [],
   "source": [
    "batio3.plot_all()"
   ]
  },
  {
   "cell_type": "markdown",
   "id": "5131a265",
   "metadata": {},
   "source": [
    "We can also look at correlations between modes within an irrep: \n",
    "\n",
    "(The sigma parameter here is a rough measure of how strongly to weight towards the best refinements. The lower sigma is, the more heavily weighted towards the best refinements, since the means are calculated with a weighting of exp((rwp-rwp_0)/sigma)"
   ]
  },
  {
   "cell_type": "code",
   "execution_count": 28,
   "id": "ffb235e8",
   "metadata": {},
   "outputs": [],
   "source": [
    "#print(batio3.hdf[\"R5-/Rwp\"][7,:])\n",
    "batio3.plot_correlation_matrix(\"GM4-\", 15, sigma = 0.01) \n"
   ]
  },
  {
   "cell_type": "markdown",
   "id": "5cac3df7",
   "metadata": {},
   "source": [
    "Using the code above, try and answer the following:\n",
    "\n",
    "1) Identify the order parameter for the sequence of phase transitions in BaTiO3\n",
    "\n",
    "2) Identify \"secondary\" active modes in the cubic phase\n",
    "\n",
    "3) Using ISOVIZ, determine the character of these secondary modes and identify why they might be active in the cubic phase\n",
    "\n",
    "4) What do the correlations of individual modes within the order parameter tell you?"
   ]
  },
  {
   "cell_type": "code",
   "execution_count": null,
   "id": "d5cbae5f",
   "metadata": {},
   "outputs": [],
   "source": []
  },
  {
   "cell_type": "code",
   "execution_count": null,
   "id": "f6df95ce",
   "metadata": {},
   "outputs": [],
   "source": []
  }
 ],
 "metadata": {
  "kernelspec": {
   "display_name": "Python 3 (ipykernel)",
   "language": "python",
   "name": "python3"
  },
  "language_info": {
   "codemirror_mode": {
    "name": "ipython",
    "version": 3
   },
   "file_extension": ".py",
   "mimetype": "text/x-python",
   "name": "python",
   "nbconvert_exporter": "python",
   "pygments_lexer": "ipython3",
   "version": "3.12.4"
  }
 },
 "nbformat": 4,
 "nbformat_minor": 5
}
